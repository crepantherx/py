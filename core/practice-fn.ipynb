{
 "cells": [
  {
   "cell_type": "code",
   "execution_count": 7,
   "metadata": {},
   "outputs": [
    {
     "name": "stdout",
     "output_type": "stream",
     "text": [
      "60\n"
     ]
    }
   ],
   "source": [
    "#version 1\n",
    "def add(num1,num2,num3):\n",
    "    total=0\n",
    "    total+=num1+num2+num3\n",
    "    print(total)\n",
    "\n",
    "add(10,20,30)"
   ]
  },
  {
   "cell_type": "code",
   "execution_count": 12,
   "metadata": {},
   "outputs": [
    {
     "name": "stdout",
     "output_type": "stream",
     "text": [
      "150\n",
      "35.5\n"
     ]
    }
   ],
   "source": [
    "#version 2\n",
    "def add(*num):\n",
    "    total=0\n",
    "    total+=sum(num)\n",
    "    print(total)\n",
    "\n",
    "add(10,20,30,40,50)\n",
    "add(10,20,5.5)"
   ]
  },
  {
   "cell_type": "code",
   "execution_count": 20,
   "metadata": {},
   "outputs": [
    {
     "name": "stdout",
     "output_type": "stream",
     "text": [
      "Hello  Swarnali ,  Riya ,  Sandra\n"
     ]
    }
   ],
   "source": [
    "#version 1\n",
    "def greet(*names):  \n",
    "    print ('Hello ', names[0], ', ', names[1], ', ', names[2])\n",
    "\n",
    "greet('Swarnali', 'Riya', 'Sandra')"
   ]
  },
  {
   "cell_type": "code",
   "execution_count": 26,
   "metadata": {},
   "outputs": [
    {
     "name": "stdout",
     "output_type": "stream",
     "text": [
      "Hello Swarnali, Riya, Sandra, Hello Swarnali, Riya, Sandra, Kapil, Reyan, "
     ]
    }
   ],
   "source": [
    "#version 2\n",
    "def greet(*names):\n",
    "\ti=0\n",
    "\tprint('Hello ', end='')\n",
    "\twhile len(names) > i:\n",
    "\t\tprint(names[i], end=', ')\n",
    "\t\ti+=1\n",
    "       \n",
    "\n",
    "greet('Swarnali', 'Riya', 'Sandra') \n",
    "greet('Swarnali', 'Riya', 'Sandra','Kapil','Reyan')"
   ]
  }
 ],
 "metadata": {
  "kernelspec": {
   "display_name": "Python 3",
   "language": "python",
   "name": "python3"
  },
  "language_info": {
   "codemirror_mode": {
    "name": "ipython",
    "version": 3
   },
   "file_extension": ".py",
   "mimetype": "text/x-python",
   "name": "python",
   "nbconvert_exporter": "python",
   "pygments_lexer": "ipython3",
   "version": "3.11.3"
  },
  "orig_nbformat": 4
 },
 "nbformat": 4,
 "nbformat_minor": 2
}
