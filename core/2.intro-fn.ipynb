{
 "cells": [
  {
   "cell_type": "code",
   "execution_count": 12,
   "metadata": {},
   "outputs": [],
   "source": [
    "import math as M"
   ]
  },
  {
   "cell_type": "code",
   "execution_count": 15,
   "metadata": {},
   "outputs": [
    {
     "data": {
      "text/plain": [
       "'34'"
      ]
     },
     "execution_count": 15,
     "metadata": {},
     "output_type": "execute_result"
    }
   ],
   "source": []
  },
  {
   "cell_type": "code",
   "execution_count": 21,
   "metadata": {},
   "outputs": [],
   "source": [
    "ip = 'RECTANGLE'"
   ]
  },
  {
   "cell_type": "code",
   "execution_count": 25,
   "metadata": {},
   "outputs": [
    {
     "name": "stdout",
     "output_type": "stream",
     "text": [
      "PERIMETER OF CIRCLE is  31.41592653589793\n"
     ]
    }
   ],
   "source": [
    "ip = input('Please select a shape')\n",
    "if ip=='SQAURE':\n",
    "    ip_sq_a = int(input('Please enter the side of square'))\n",
    "    ip_sq_choice_ar_p = input('Please choose area or perimeter')\n",
    "    print('AREA of SQuARE is ', ip_sq_a**2) if ip_sq_choice_ar_p == 'AREA' else print('PERIMETER OF SQUARE is ', ip_sq_a*4)\n",
    "\n",
    "elif ip=='CIRCLE':\n",
    "    r = int(input('Please enter radius of circle'))\n",
    "    choice = input('Please choose area or perimiter')\n",
    "    print('AREA of CIRCLE is ', M.pi*r*r) if choice=='AREA' else print('PERIMETER OF CIRCLE is ', 2*M.pi*r)\n",
    "\n",
    "elif ip=='RECTANGLE':\n",
    "    a = int(input('Please enter len of rectangle'))\n",
    "    b = int(input('Please enter bre of rectangle'))\n",
    "    choice = input('Please choose area or perimiter')\n",
    "    print('AREA of RECTABLE is ', a*b) if choice=='AREA' else print('PERIMETER OF RECTANGLE is ', 2*(a+b))"
   ]
  },
  {
   "cell_type": "code",
   "execution_count": 57,
   "metadata": {},
   "outputs": [],
   "source": [
    "def calculate_area(shape, *args):\n",
    "    if shape=='square':\n",
    "        return args[0] ** 2 \n",
    "    elif shape =='circle':\n",
    "        return M.pi * args[0] ** 2\n",
    "    elif shape == 'rectangle':\n",
    "        return args[0] * args[1]\n",
    "\n",
    "def calculate_perimeter(shape, *args):\n",
    "    if shape=='square':\n",
    "        return args[0] * 4 \n",
    "    elif shape =='circle':\n",
    "        return M.pi * args[0] * 2\n",
    "    elif shape == 'rectangle':\n",
    "        return 2 * (args[0] + args[1])\n"
   ]
  },
  {
   "cell_type": "code",
   "execution_count": 85,
   "metadata": {},
   "outputs": [],
   "source": [
    "shape_formulas = {\n",
    "    'square':('a', calculate_area, calculate_perimeter),\n",
    "    'circle':('r', calculate_area, calculate_perimeter),\n",
    "    'rectangle':('l b',calculate_area, calculate_perimeter)\n",
    "}"
   ]
  },
  {
   "cell_type": "code",
   "execution_count": 87,
   "metadata": {},
   "outputs": [
    {
     "name": "stdout",
     "output_type": "stream",
     "text": [
      "Area of rectangle: 12\n"
     ]
    }
   ],
   "source": [
    "ip = input('Enter the shape(square, circle, rectangle): ').lower()\n",
    "\n",
    "if ip in shape_formulas:\n",
    "    shape_info = shape_formulas[ip]\n",
    "    args = []\n",
    "    for info in shape_info[0].split():\n",
    "        args.append(int(input(f\"Please enter {info}\")))\n",
    "    choice = input('Please choose area or perimeter:').lower()\n",
    "    if choice =='area':\n",
    "        print(f\"Area of {ip}: {shape_info[1](ip, *args)}\")\n",
    "    elif choice == 'perimeter':\n",
    "        print(f\"Perimter of {ip}: {shape_info[2](ip, *args)}\")\n",
    "    else:\n",
    "        print(\"Invalid\")\n",
    "else:\n",
    "    print('Invalid Shape')\n"
   ]
  },
  {
   "cell_type": "code",
   "execution_count": 91,
   "metadata": {},
   "outputs": [
    {
     "name": "stdout",
     "output_type": "stream",
     "text": [
      "['a']\n"
     ]
    }
   ],
   "source": [
    "x = []\n",
    "for i in 'a'.split():\n",
    "    x.append(i)\n",
    "print(x)"
   ]
  },
  {
   "cell_type": "code",
   "execution_count": null,
   "metadata": {},
   "outputs": [],
   "source": []
  }
 ],
 "metadata": {
  "kernelspec": {
   "display_name": "Python 3",
   "language": "python",
   "name": "python3"
  },
  "language_info": {
   "codemirror_mode": {
    "name": "ipython",
    "version": 3
   },
   "file_extension": ".py",
   "mimetype": "text/x-python",
   "name": "python",
   "nbconvert_exporter": "python",
   "pygments_lexer": "ipython3",
   "version": "3.11.2"
  },
  "orig_nbformat": 4
 },
 "nbformat": 4,
 "nbformat_minor": 2
}
