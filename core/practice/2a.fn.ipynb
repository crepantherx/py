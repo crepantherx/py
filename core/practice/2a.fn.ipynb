{
 "cells": [
  {
   "cell_type": "code",
   "execution_count": 7,
   "metadata": {},
   "outputs": [
    {
     "name": "stdout",
     "output_type": "stream",
     "text": [
      "60\n"
     ]
    }
   ],
   "source": [
    "#version 1\n",
    "def add(num1,num2,num3):\n",
    "    total=0\n",
    "    total+=num1+num2+num3\n",
    "    print(total)\n",
    "\n",
    "add(10,20,30)"
   ]
  },
  {
   "cell_type": "code",
   "execution_count": 12,
   "metadata": {},
   "outputs": [
    {
     "name": "stdout",
     "output_type": "stream",
     "text": [
      "150\n",
      "35.5\n"
     ]
    }
   ],
   "source": [
    "#version 2\n",
    "def add(*num):\n",
    "    total=0\n",
    "    total+=sum(num)\n",
    "    print(total)\n",
    "\n",
    "add(10,20,30,40,50)\n",
    "add(10,20,5.5)"
   ]
  },
  {
   "cell_type": "code",
   "execution_count": 28,
   "metadata": {},
   "outputs": [
    {
     "name": "stdout",
     "output_type": "stream",
     "text": [
      "Hello  Swarnali ,  Riya ,  Sandra\n"
     ]
    }
   ],
   "source": [
    "#version 1\n",
    "def greet(*names):  \n",
    "    print ('Hello ', names[0], ', ', names[1], ', ', names[2])\n",
    "\n",
    "greet('Swarnali', 'Riya', 'Sandra')"
   ]
  },
  {
   "cell_type": "code",
   "execution_count": 26,
   "metadata": {},
   "outputs": [
    {
     "name": "stdout",
     "output_type": "stream",
     "text": [
      "Hello Swarnali, Riya, Sandra, Hello Swarnali, Riya, Sandra, Kapil, Reyan, "
     ]
    }
   ],
   "source": [
    "#version 2\n",
    "def greet(*names):\n",
    "\ti=0\n",
    "\tprint('Hello ', end='')\n",
    "\twhile len(names) > i:\n",
    "\t\tprint(names[i], end=', ')\n",
    "\t\ti+=1\n",
    "       \n",
    "\n",
    "greet('Swarnali', 'Riya', 'Sandra') \n",
    "greet('Swarnali', 'Riya', 'Sandra','Kapil','Reyan')"
   ]
  },
  {
   "cell_type": "code",
   "execution_count": 29,
   "metadata": {},
   "outputs": [],
   "source": [
    "import math as M"
   ]
  },
  {
   "cell_type": "code",
   "execution_count": 35,
   "metadata": {},
   "outputs": [
    {
     "name": "stdout",
     "output_type": "stream",
     "text": [
      "Area of rectangle: 56\n"
     ]
    }
   ],
   "source": [
    "def calculate_area(shape,*args):\n",
    "    if shape=='square':\n",
    "        return args[0] ** 2 \n",
    "    elif shape =='circle':\n",
    "        return M.pi * args[0] ** 2\n",
    "    elif shape == 'rectangle':\n",
    "        return args[0] * args[1]\n",
    "\n",
    "def calculate_perimeter(shape, *args):\n",
    "    if shape=='square':\n",
    "        return args[0] * 4 \n",
    "    elif shape =='circle':\n",
    "        return M.pi * args[0] * 2\n",
    "    elif shape == 'rectangle':\n",
    "        return 2 * (args[0] + args[1])\n",
    "\n",
    "shape_formulas = {\n",
    "    'square':('Side_of_Sqaure', calculate_area, calculate_perimeter),\n",
    "    'circle':('Radius_of_Circle', calculate_area, calculate_perimeter),\n",
    "    'rectangle':('length_of_rectangle  breadth_of_rectangle',calculate_area, calculate_perimeter)\n",
    "}\n",
    "\n",
    "\n",
    "ip=input(\"Select a shape (square,circle,rectangle)\").lower()\n",
    "\n",
    "if ip in shape_formulas:\n",
    "    shape_info=shape_formulas[ip]\n",
    "    args=[]\n",
    "    for info in shape_info[0].split():\n",
    "        args.append(int(input(f\"Please enter shape: {info}\")))\n",
    "    choice = input('Please choose area or perimeter of shape:').lower()\n",
    "    if choice=='area':\n",
    "        print(f\"Area of {ip}: {shape_info[1](ip, *args)}\")\n",
    "    elif choice=='perimeter':\n",
    "        print(f\"Perimter of {ip}: {shape_info[2](ip, *args)}\")\n",
    "    else:\n",
    "        print(\"Invalid Operation\")\n",
    "else:\n",
    "    print(\"Invalid Shape\")\n"
   ]
  }
 ],
 "metadata": {
  "kernelspec": {
   "display_name": "Python 3",
   "language": "python",
   "name": "python3"
  },
  "language_info": {
   "codemirror_mode": {
    "name": "ipython",
    "version": 3
   },
   "file_extension": ".py",
   "mimetype": "text/x-python",
   "name": "python",
   "nbconvert_exporter": "python",
   "pygments_lexer": "ipython3",
   "version": "3.11.3"
  },
  "orig_nbformat": 4
 },
 "nbformat": 4,
 "nbformat_minor": 2
}
